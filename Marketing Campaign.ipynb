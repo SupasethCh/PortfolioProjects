{
  "cells":[
    {
      "cell_type":"markdown",
      "source":[
        "# **Import Library**"
      ],
      "attachments":{
        
      },
      "metadata":{
        "datalore":{
          "sheet_delimiter":false
        }
      }
    },
    {
      "cell_type":"code",
      "source":[
        "import pandas as pd\n",
        "import numpy as np\n",
        "\n",
        "from datetime import date"
      ],
      "execution_count":1,
      "outputs":[
        
      ],
      "metadata":{
        "datalore":{
          "sheet_delimiter":false
        }
      }
    },
    {
      "cell_type":"markdown",
      "source":[
        "# **Loading Data**"
      ],
      "attachments":{
        
      },
      "metadata":{
        "datalore":{
          "sheet_delimiter":false
        }
      }
    },
    {
      "cell_type":"code",
      "source":[
        "\n",
        "data = pd.read_csv(\"marketing_campaign.csv\", sep = '\\t')\n",
        "display(data.shape, data.head(10))"
      ],
      "execution_count":2,
      "outputs":[
        {
          "data":{
            "text\/plain":[
              "(2240, 29)"
            ],
            "text\/html":[
              "<div>\n",
              "<style scoped>\n",
              "    .dataframe tbody tr th:only-of-type {\n",
              "        vertical-align: middle;\n",
              "    }\n",
              "\n",
              "    .dataframe tbody tr th {\n",
              "        vertical-align: top;\n",
              "    }\n",
              "\n",
              "    .dataframe thead th {\n",
              "        text-align: right;\n",
              "    }\n",
              "<\/style>\n",
              "<table border=\"1\" class=\"dataframe\">\n",
              "  <thead>\n",
              "    <tr style=\"text-align: right;\">\n",
              "      <th><\/th>\n",
              "      <th>ID<\/th>\n",
              "      <th>Year_Birth<\/th>\n",
              "      <th>Education<\/th>\n",
              "      <th>Marital_Status<\/th>\n",
              "      <th>Income<\/th>\n",
              "      <th>Kidhome<\/th>\n",
              "      <th>Teenhome<\/th>\n",
              "      <th>Dt_Customer<\/th>\n",
              "      <th>Recency<\/th>\n",
              "      <th>MntWines<\/th>\n",
              "      <th>...<\/th>\n",
              "      <th>NumWebVisitsMonth<\/th>\n",
              "      <th>AcceptedCmp3<\/th>\n",
              "      <th>AcceptedCmp4<\/th>\n",
              "      <th>AcceptedCmp5<\/th>\n",
              "      <th>AcceptedCmp1<\/th>\n",
              "      <th>AcceptedCmp2<\/th>\n",
              "      <th>Complain<\/th>\n",
              "      <th>Z_CostContact<\/th>\n",
              "      <th>Z_Revenue<\/th>\n",
              "      <th>Response<\/th>\n",
              "    <\/tr>\n",
              "  <\/thead>\n",
              "  <tbody>\n",
              "    <tr>\n",
              "      <th>0<\/th>\n",
              "      <td>5524<\/td>\n",
              "      <td>1957<\/td>\n",
              "      <td>Graduation<\/td>\n",
              "      <td>Single<\/td>\n",
              "      <td>58138.0<\/td>\n",
              "      <td>0<\/td>\n",
              "      <td>0<\/td>\n",
              "      <td>04-09-2012<\/td>\n",
              "      <td>58<\/td>\n",
              "      <td>635<\/td>\n",
              "      <td>...<\/td>\n",
              "      <td>7<\/td>\n",
              "      <td>0<\/td>\n",
              "      <td>0<\/td>\n",
              "      <td>0<\/td>\n",
              "      <td>0<\/td>\n",
              "      <td>0<\/td>\n",
              "      <td>0<\/td>\n",
              "      <td>3<\/td>\n",
              "      <td>11<\/td>\n",
              "      <td>1<\/td>\n",
              "    <\/tr>\n",
              "    <tr>\n",
              "      <th>1<\/th>\n",
              "      <td>2174<\/td>\n",
              "      <td>1954<\/td>\n",
              "      <td>Graduation<\/td>\n",
              "      <td>Single<\/td>\n",
              "      <td>46344.0<\/td>\n",
              "      <td>1<\/td>\n",
              "      <td>1<\/td>\n",
              "      <td>08-03-2014<\/td>\n",
              "      <td>38<\/td>\n",
              "      <td>11<\/td>\n",
              "      <td>...<\/td>\n",
              "      <td>5<\/td>\n",
              "      <td>0<\/td>\n",
              "      <td>0<\/td>\n",
              "      <td>0<\/td>\n",
              "      <td>0<\/td>\n",
              "      <td>0<\/td>\n",
              "      <td>0<\/td>\n",
              "      <td>3<\/td>\n",
              "      <td>11<\/td>\n",
              "      <td>0<\/td>\n",
              "    <\/tr>\n",
              "    <tr>\n",
              "      <th>2<\/th>\n",
              "      <td>4141<\/td>\n",
              "      <td>1965<\/td>\n",
              "      <td>Graduation<\/td>\n",
              "      <td>Together<\/td>\n",
              "      <td>71613.0<\/td>\n",
              "      <td>0<\/td>\n",
              "      <td>0<\/td>\n",
              "      <td>21-08-2013<\/td>\n",
              "      <td>26<\/td>\n",
              "      <td>426<\/td>\n",
              "      <td>...<\/td>\n",
              "      <td>4<\/td>\n",
              "      <td>0<\/td>\n",
              "      <td>0<\/td>\n",
              "      <td>0<\/td>\n",
              "      <td>0<\/td>\n",
              "      <td>0<\/td>\n",
              "      <td>0<\/td>\n",
              "      <td>3<\/td>\n",
              "      <td>11<\/td>\n",
              "      <td>0<\/td>\n",
              "    <\/tr>\n",
              "    <tr>\n",
              "      <th>3<\/th>\n",
              "      <td>6182<\/td>\n",
              "      <td>1984<\/td>\n",
              "      <td>Graduation<\/td>\n",
              "      <td>Together<\/td>\n",
              "      <td>26646.0<\/td>\n",
              "      <td>1<\/td>\n",
              "      <td>0<\/td>\n",
              "      <td>10-02-2014<\/td>\n",
              "      <td>26<\/td>\n",
              "      <td>11<\/td>\n",
              "      <td>...<\/td>\n",
              "      <td>6<\/td>\n",
              "      <td>0<\/td>\n",
              "      <td>0<\/td>\n",
              "      <td>0<\/td>\n",
              "      <td>0<\/td>\n",
              "      <td>0<\/td>\n",
              "      <td>0<\/td>\n",
              "      <td>3<\/td>\n",
              "      <td>11<\/td>\n",
              "      <td>0<\/td>\n",
              "    <\/tr>\n",
              "    <tr>\n",
              "      <th>4<\/th>\n",
              "      <td>5324<\/td>\n",
              "      <td>1981<\/td>\n",
              "      <td>PhD<\/td>\n",
              "      <td>Married<\/td>\n",
              "      <td>58293.0<\/td>\n",
              "      <td>1<\/td>\n",
              "      <td>0<\/td>\n",
              "      <td>19-01-2014<\/td>\n",
              "      <td>94<\/td>\n",
              "      <td>173<\/td>\n",
              "      <td>...<\/td>\n",
              "      <td>5<\/td>\n",
              "      <td>0<\/td>\n",
              "      <td>0<\/td>\n",
              "      <td>0<\/td>\n",
              "      <td>0<\/td>\n",
              "      <td>0<\/td>\n",
              "      <td>0<\/td>\n",
              "      <td>3<\/td>\n",
              "      <td>11<\/td>\n",
              "      <td>0<\/td>\n",
              "    <\/tr>\n",
              "    <tr>\n",
              "      <th>5<\/th>\n",
              "      <td>7446<\/td>\n",
              "      <td>1967<\/td>\n",
              "      <td>Master<\/td>\n",
              "      <td>Together<\/td>\n",
              "      <td>62513.0<\/td>\n",
              "      <td>0<\/td>\n",
              "      <td>1<\/td>\n",
              "      <td>09-09-2013<\/td>\n",
              "      <td>16<\/td>\n",
              "      <td>520<\/td>\n",
              "      <td>...<\/td>\n",
              "      <td>6<\/td>\n",
              "      <td>0<\/td>\n",
              "      <td>0<\/td>\n",
              "      <td>0<\/td>\n",
              "      <td>0<\/td>\n",
              "      <td>0<\/td>\n",
              "      <td>0<\/td>\n",
              "      <td>3<\/td>\n",
              "      <td>11<\/td>\n",
              "      <td>0<\/td>\n",
              "    <\/tr>\n",
              "    <tr>\n",
              "      <th>6<\/th>\n",
              "      <td>965<\/td>\n",
              "      <td>1971<\/td>\n",
              "      <td>Graduation<\/td>\n",
              "      <td>Divorced<\/td>\n",
              "      <td>55635.0<\/td>\n",
              "      <td>0<\/td>\n",
              "      <td>1<\/td>\n",
              "      <td>13-11-2012<\/td>\n",
              "      <td>34<\/td>\n",
              "      <td>235<\/td>\n",
              "      <td>...<\/td>\n",
              "      <td>6<\/td>\n",
              "      <td>0<\/td>\n",
              "      <td>0<\/td>\n",
              "      <td>0<\/td>\n",
              "      <td>0<\/td>\n",
              "      <td>0<\/td>\n",
              "      <td>0<\/td>\n",
              "      <td>3<\/td>\n",
              "      <td>11<\/td>\n",
              "      <td>0<\/td>\n",
              "    <\/tr>\n",
              "    <tr>\n",
              "      <th>7<\/th>\n",
              "      <td>6177<\/td>\n",
              "      <td>1985<\/td>\n",
              "      <td>PhD<\/td>\n",
              "      <td>Married<\/td>\n",
              "      <td>33454.0<\/td>\n",
              "      <td>1<\/td>\n",
              "      <td>0<\/td>\n",
              "      <td>08-05-2013<\/td>\n",
              "      <td>32<\/td>\n",
              "      <td>76<\/td>\n",
              "      <td>...<\/td>\n",
              "      <td>8<\/td>\n",
              "      <td>0<\/td>\n",
              "      <td>0<\/td>\n",
              "      <td>0<\/td>\n",
              "      <td>0<\/td>\n",
              "      <td>0<\/td>\n",
              "      <td>0<\/td>\n",
              "      <td>3<\/td>\n",
              "      <td>11<\/td>\n",
              "      <td>0<\/td>\n",
              "    <\/tr>\n",
              "    <tr>\n",
              "      <th>8<\/th>\n",
              "      <td>4855<\/td>\n",
              "      <td>1974<\/td>\n",
              "      <td>PhD<\/td>\n",
              "      <td>Together<\/td>\n",
              "      <td>30351.0<\/td>\n",
              "      <td>1<\/td>\n",
              "      <td>0<\/td>\n",
              "      <td>06-06-2013<\/td>\n",
              "      <td>19<\/td>\n",
              "      <td>14<\/td>\n",
              "      <td>...<\/td>\n",
              "      <td>9<\/td>\n",
              "      <td>0<\/td>\n",
              "      <td>0<\/td>\n",
              "      <td>0<\/td>\n",
              "      <td>0<\/td>\n",
              "      <td>0<\/td>\n",
              "      <td>0<\/td>\n",
              "      <td>3<\/td>\n",
              "      <td>11<\/td>\n",
              "      <td>1<\/td>\n",
              "    <\/tr>\n",
              "    <tr>\n",
              "      <th>9<\/th>\n",
              "      <td>5899<\/td>\n",
              "      <td>1950<\/td>\n",
              "      <td>PhD<\/td>\n",
              "      <td>Together<\/td>\n",
              "      <td>5648.0<\/td>\n",
              "      <td>1<\/td>\n",
              "      <td>1<\/td>\n",
              "      <td>13-03-2014<\/td>\n",
              "      <td>68<\/td>\n",
              "      <td>28<\/td>\n",
              "      <td>...<\/td>\n",
              "      <td>20<\/td>\n",
              "      <td>1<\/td>\n",
              "      <td>0<\/td>\n",
              "      <td>0<\/td>\n",
              "      <td>0<\/td>\n",
              "      <td>0<\/td>\n",
              "      <td>0<\/td>\n",
              "      <td>3<\/td>\n",
              "      <td>11<\/td>\n",
              "      <td>0<\/td>\n",
              "    <\/tr>\n",
              "  <\/tbody>\n",
              "<\/table>\n",
              "<p>10 rows × 29 columns<\/p>\n",
              "<\/div>"
            ]
          },
          "metadata":{
            
          },
          "output_type":"display_data"
        }
      ],
      "metadata":{
        "datalore":{
          "sheet_delimiter":false
        }
      }
    },
    {
      "cell_type":"code",
      "source":[
        "data.columns"
      ],
      "execution_count":3,
      "outputs":[
        {
          "data":{
            "text\/plain":[
              "Index(['ID', 'Year_Birth', 'Education', 'Marital_Status', 'Income', 'Kidhome',\n",
              "       'Teenhome', 'Dt_Customer', 'Recency', 'MntWines', 'MntFruits',\n",
              "       'MntMeatProducts', 'MntFishProducts', 'MntSweetProducts',\n",
              "       'MntGoldProds', 'NumDealsPurchases', 'NumWebPurchases',\n",
              "       'NumCatalogPurchases', 'NumStorePurchases', 'NumWebVisitsMonth',\n",
              "       'AcceptedCmp3', 'AcceptedCmp4', 'AcceptedCmp5', 'AcceptedCmp1',\n",
              "       'AcceptedCmp2', 'Complain', 'Z_CostContact', 'Z_Revenue', 'Response'],\n",
              "      dtype='object')"
            ]
          },
          "metadata":{
            
          },
          "output_type":"display_data"
        }
      ],
      "metadata":{
        "datalore":{
          "sheet_delimiter":false
        }
      }
    },
    {
      "cell_type":"code",
      "source":[
        "data_info = pd.DataFrame(columns=['Name of Col', 'Num of Null', 'Dtype', 'N_Unique'])\n",
        "\n",
        "for i in range(0, len(data.columns)):\n",
        "    data_info.loc[i] = (data.columns[i],\n",
        "                        data[data.columns[i]].isnull().sum(),\n",
        "                        data[data.columns[i]].dtypes,\n",
        "                        data[data.columns[i]].nunique()) \n",
        "    \n",
        "data_info"
      ],
      "execution_count":4,
      "outputs":[
        {
          "data":{
            "text\/html":[
              "<div>\n",
              "<style scoped>\n",
              "    .dataframe tbody tr th:only-of-type {\n",
              "        vertical-align: middle;\n",
              "    }\n",
              "\n",
              "    .dataframe tbody tr th {\n",
              "        vertical-align: top;\n",
              "    }\n",
              "\n",
              "    .dataframe thead th {\n",
              "        text-align: right;\n",
              "    }\n",
              "<\/style>\n",
              "<table border=\"1\" class=\"dataframe\">\n",
              "  <thead>\n",
              "    <tr style=\"text-align: right;\">\n",
              "      <th><\/th>\n",
              "      <th>Name of Col<\/th>\n",
              "      <th>Num of Null<\/th>\n",
              "      <th>Dtype<\/th>\n",
              "      <th>N_Unique<\/th>\n",
              "    <\/tr>\n",
              "  <\/thead>\n",
              "  <tbody>\n",
              "    <tr>\n",
              "      <th>0<\/th>\n",
              "      <td>ID<\/td>\n",
              "      <td>0<\/td>\n",
              "      <td>int64<\/td>\n",
              "      <td>2240<\/td>\n",
              "    <\/tr>\n",
              "    <tr>\n",
              "      <th>1<\/th>\n",
              "      <td>Year_Birth<\/td>\n",
              "      <td>0<\/td>\n",
              "      <td>int64<\/td>\n",
              "      <td>59<\/td>\n",
              "    <\/tr>\n",
              "    <tr>\n",
              "      <th>2<\/th>\n",
              "      <td>Education<\/td>\n",
              "      <td>0<\/td>\n",
              "      <td>object<\/td>\n",
              "      <td>5<\/td>\n",
              "    <\/tr>\n",
              "    <tr>\n",
              "      <th>3<\/th>\n",
              "      <td>Marital_Status<\/td>\n",
              "      <td>0<\/td>\n",
              "      <td>object<\/td>\n",
              "      <td>8<\/td>\n",
              "    <\/tr>\n",
              "    <tr>\n",
              "      <th>4<\/th>\n",
              "      <td>Income<\/td>\n",
              "      <td>24<\/td>\n",
              "      <td>float64<\/td>\n",
              "      <td>1974<\/td>\n",
              "    <\/tr>\n",
              "    <tr>\n",
              "      <th>5<\/th>\n",
              "      <td>Kidhome<\/td>\n",
              "      <td>0<\/td>\n",
              "      <td>int64<\/td>\n",
              "      <td>3<\/td>\n",
              "    <\/tr>\n",
              "    <tr>\n",
              "      <th>6<\/th>\n",
              "      <td>Teenhome<\/td>\n",
              "      <td>0<\/td>\n",
              "      <td>int64<\/td>\n",
              "      <td>3<\/td>\n",
              "    <\/tr>\n",
              "    <tr>\n",
              "      <th>7<\/th>\n",
              "      <td>Dt_Customer<\/td>\n",
              "      <td>0<\/td>\n",
              "      <td>object<\/td>\n",
              "      <td>663<\/td>\n",
              "    <\/tr>\n",
              "    <tr>\n",
              "      <th>8<\/th>\n",
              "      <td>Recency<\/td>\n",
              "      <td>0<\/td>\n",
              "      <td>int64<\/td>\n",
              "      <td>100<\/td>\n",
              "    <\/tr>\n",
              "    <tr>\n",
              "      <th>9<\/th>\n",
              "      <td>MntWines<\/td>\n",
              "      <td>0<\/td>\n",
              "      <td>int64<\/td>\n",
              "      <td>776<\/td>\n",
              "    <\/tr>\n",
              "    <tr>\n",
              "      <th>10<\/th>\n",
              "      <td>MntFruits<\/td>\n",
              "      <td>0<\/td>\n",
              "      <td>int64<\/td>\n",
              "      <td>158<\/td>\n",
              "    <\/tr>\n",
              "    <tr>\n",
              "      <th>11<\/th>\n",
              "      <td>MntMeatProducts<\/td>\n",
              "      <td>0<\/td>\n",
              "      <td>int64<\/td>\n",
              "      <td>558<\/td>\n",
              "    <\/tr>\n",
              "    <tr>\n",
              "      <th>12<\/th>\n",
              "      <td>MntFishProducts<\/td>\n",
              "      <td>0<\/td>\n",
              "      <td>int64<\/td>\n",
              "      <td>182<\/td>\n",
              "    <\/tr>\n",
              "    <tr>\n",
              "      <th>13<\/th>\n",
              "      <td>MntSweetProducts<\/td>\n",
              "      <td>0<\/td>\n",
              "      <td>int64<\/td>\n",
              "      <td>177<\/td>\n",
              "    <\/tr>\n",
              "    <tr>\n",
              "      <th>14<\/th>\n",
              "      <td>MntGoldProds<\/td>\n",
              "      <td>0<\/td>\n",
              "      <td>int64<\/td>\n",
              "      <td>213<\/td>\n",
              "    <\/tr>\n",
              "    <tr>\n",
              "      <th>15<\/th>\n",
              "      <td>NumDealsPurchases<\/td>\n",
              "      <td>0<\/td>\n",
              "      <td>int64<\/td>\n",
              "      <td>15<\/td>\n",
              "    <\/tr>\n",
              "    <tr>\n",
              "      <th>16<\/th>\n",
              "      <td>NumWebPurchases<\/td>\n",
              "      <td>0<\/td>\n",
              "      <td>int64<\/td>\n",
              "      <td>15<\/td>\n",
              "    <\/tr>\n",
              "    <tr>\n",
              "      <th>17<\/th>\n",
              "      <td>NumCatalogPurchases<\/td>\n",
              "      <td>0<\/td>\n",
              "      <td>int64<\/td>\n",
              "      <td>14<\/td>\n",
              "    <\/tr>\n",
              "    <tr>\n",
              "      <th>18<\/th>\n",
              "      <td>NumStorePurchases<\/td>\n",
              "      <td>0<\/td>\n",
              "      <td>int64<\/td>\n",
              "      <td>14<\/td>\n",
              "    <\/tr>\n",
              "    <tr>\n",
              "      <th>19<\/th>\n",
              "      <td>NumWebVisitsMonth<\/td>\n",
              "      <td>0<\/td>\n",
              "      <td>int64<\/td>\n",
              "      <td>16<\/td>\n",
              "    <\/tr>\n",
              "    <tr>\n",
              "      <th>20<\/th>\n",
              "      <td>AcceptedCmp3<\/td>\n",
              "      <td>0<\/td>\n",
              "      <td>int64<\/td>\n",
              "      <td>2<\/td>\n",
              "    <\/tr>\n",
              "    <tr>\n",
              "      <th>21<\/th>\n",
              "      <td>AcceptedCmp4<\/td>\n",
              "      <td>0<\/td>\n",
              "      <td>int64<\/td>\n",
              "      <td>2<\/td>\n",
              "    <\/tr>\n",
              "    <tr>\n",
              "      <th>22<\/th>\n",
              "      <td>AcceptedCmp5<\/td>\n",
              "      <td>0<\/td>\n",
              "      <td>int64<\/td>\n",
              "      <td>2<\/td>\n",
              "    <\/tr>\n",
              "    <tr>\n",
              "      <th>23<\/th>\n",
              "      <td>AcceptedCmp1<\/td>\n",
              "      <td>0<\/td>\n",
              "      <td>int64<\/td>\n",
              "      <td>2<\/td>\n",
              "    <\/tr>\n",
              "    <tr>\n",
              "      <th>24<\/th>\n",
              "      <td>AcceptedCmp2<\/td>\n",
              "      <td>0<\/td>\n",
              "      <td>int64<\/td>\n",
              "      <td>2<\/td>\n",
              "    <\/tr>\n",
              "    <tr>\n",
              "      <th>25<\/th>\n",
              "      <td>Complain<\/td>\n",
              "      <td>0<\/td>\n",
              "      <td>int64<\/td>\n",
              "      <td>2<\/td>\n",
              "    <\/tr>\n",
              "    <tr>\n",
              "      <th>26<\/th>\n",
              "      <td>Z_CostContact<\/td>\n",
              "      <td>0<\/td>\n",
              "      <td>int64<\/td>\n",
              "      <td>1<\/td>\n",
              "    <\/tr>\n",
              "    <tr>\n",
              "      <th>27<\/th>\n",
              "      <td>Z_Revenue<\/td>\n",
              "      <td>0<\/td>\n",
              "      <td>int64<\/td>\n",
              "      <td>1<\/td>\n",
              "    <\/tr>\n",
              "    <tr>\n",
              "      <th>28<\/th>\n",
              "      <td>Response<\/td>\n",
              "      <td>0<\/td>\n",
              "      <td>int64<\/td>\n",
              "      <td>2<\/td>\n",
              "    <\/tr>\n",
              "  <\/tbody>\n",
              "<\/table>\n",
              "<\/div>"
            ]
          },
          "metadata":{
            
          },
          "output_type":"display_data"
        }
      ],
      "metadata":{
        "datalore":{
          "sheet_delimiter":false
        }
      }
    },
    {
      "cell_type":"markdown",
      "source":[
        "# **Cleaning Data and Exploratory Data Analysis**"
      ],
      "attachments":{
        
      },
      "metadata":{
        "datalore":{
          "sheet_delimiter":false
        }
      }
    },
    {
      "cell_type":"markdown",
      "source":[
        "From the above,\n",
        "\n",
        "1. \"Income\" has 24 null values.\n",
        "   \n",
        "2. \"Dt_customer\" needs to be parsed as DateTime.\n",
        "   \n",
        "3. \"Education\" and \"Marital_Status\" need to be encoded.\n",
        "\n",
        "Because the number of null values in \"Income\" is just 24, I'd like to simply drop those rows."
      ],
      "attachments":{
        
      },
      "metadata":{
        "datalore":{
          "sheet_delimiter":false
        }
      }
    },
    {
      "cell_type":"markdown",
      "source":[
        "**Drop the rows including null data**"
      ],
      "attachments":{
        
      },
      "metadata":{
        "datalore":{
          "sheet_delimiter":false
        }
      }
    },
    {
      "cell_type":"code",
      "source":[
        "data.dropna(inplace = True)\n",
        "\n",
        "data.shape"
      ],
      "execution_count":5,
      "outputs":[
        {
          "data":{
            "text\/plain":[
              "(2216, 29)"
            ]
          },
          "metadata":{
            
          },
          "output_type":"display_data"
        }
      ],
      "metadata":{
        "datalore":{
          "sheet_delimiter":false
        }
      }
    },
    {
      "cell_type":"markdown",
      "source":[
        "**New feature creation**"
      ],
      "attachments":{
        
      },
      "metadata":{
        "datalore":{
          "sheet_delimiter":false
        }
      }
    },
    {
      "cell_type":"code",
      "source":[
        "data['Dt_Customer'] = pd.to_datetime(data['Dt_Customer'])\n",
        "dates = []\n",
        "\n",
        "for i in data['Dt_Customer']:\n",
        "    i = i.date()\n",
        "    dates.append(i)\n",
        "\n",
        "print(\"The newest customer's enrowment date in the records : \", max(dates))\n",
        "print(\"The oldest customer's enrowment date in the records : \", min(dates))"
      ],
      "execution_count":6,
      "outputs":[
        {
          "name":"stdout",
          "text":[
            "The newest customer's enrowment date in the records :  2014-12-06\n",
            "The oldest customer's enrowment date in the records :  2012-01-08\n"
          ],
          "output_type":"stream"
        }
      ],
      "metadata":{
        "datalore":{
          "sheet_delimiter":false
        }
      }
    },
    {
      "cell_type":"markdown",
      "source":[
        "Creating the new feature \"Cus_for\" to show the number of days the customers being the member of the shop."
      ],
      "attachments":{
        
      },
      "metadata":{
        "datalore":{
          "sheet_delimiter":false
        }
      }
    },
    {
      "cell_type":"code",
      "source":[
        "days = []\n",
        "d1 = max(dates)\n",
        "\n",
        "for i in dates:\n",
        "    delta = d1 - i\n",
        "    days.append(delta)\n",
        "\n",
        "days[0]"
      ],
      "execution_count":7,
      "outputs":[
        {
          "data":{
            "text\/plain":[
              "datetime.timedelta(days=971)"
            ]
          },
          "metadata":{
            
          },
          "output_type":"display_data"
        }
      ],
      "metadata":{
        "datalore":{
          "sheet_delimiter":false
        }
      }
    },
    {
      "cell_type":"code",
      "source":[
        "days_int = []\n",
        "for i in range(0, len(days)):\n",
        "    days_int.append(days[i].days) # with the method .days, we are able to get only the number of days from the timedelta type.\n",
        "\n",
        "days_int[0]"
      ],
      "execution_count":8,
      "outputs":[
        {
          "data":{
            "text\/plain":[
              "971"
            ]
          },
          "metadata":{
            
          },
          "output_type":"display_data"
        }
      ],
      "metadata":{
        "datalore":{
          "sheet_delimiter":false
        }
      }
    },
    {
      "cell_type":"code",
      "source":[
        "data['Cus_for'] = days_int\n",
        "\n",
        "print(data['Cus_for'].dtypes)\n",
        "data['Cus_for'].head(1)"
      ],
      "execution_count":9,
      "outputs":[
        {
          "name":"stdout",
          "text":[
            "int64\n"
          ],
          "output_type":"stream"
        },
        {
          "data":{
            "text\/html":[
              
            ]
          },
          "metadata":{
            
          },
          "output_type":"display_data"
        }
      ],
      "metadata":{
        "datalore":{
          "sheet_delimiter":false
        }
      }
    },
    {
      "cell_type":"markdown",
      "source":[
        "Value counting the categorical variables\n",
        "\n",
        "We will be exploring the unique category in the object features, \"Marital_Status\" and \"Education\".\n",
        "\n",
        "- Marital_Status column has 8 categories.\n",
        "- Education column has 5 categories."
      ],
      "attachments":{
        
      },
      "metadata":{
        "datalore":{
          "sheet_delimiter":false
        }
      }
    },
    {
      "cell_type":"code",
      "source":[
        "print(data.Marital_Status.value_counts())\n",
        "print(f'Num of unique category: {data.Marital_Status.nunique()}')\n",
        "print('\\n')\n",
        "print(data.Education.value_counts())\n",
        "print(f'Num of unique category: {data.Education.nunique()}')"
      ],
      "execution_count":10,
      "outputs":[
        {
          "name":"stdout",
          "text":[
            "Married     857\n",
            "Together    573\n",
            "Single      471\n",
            "Divorced    232\n",
            "Widow        76\n",
            "Alone         3\n",
            "Absurd        2\n",
            "YOLO          2\n",
            "Name: Marital_Status, dtype: int64\n",
            "Num of unique category: 8\n",
            "\n",
            "\n",
            "Graduation    1116\n",
            "PhD            481\n",
            "Master         365\n",
            "2n Cycle       200\n",
            "Basic           54\n",
            "Name: Education, dtype: int64\n",
            "Num of unique category: 5\n"
          ],
          "output_type":"stream"
        }
      ],
      "metadata":{
        "datalore":{
          "sheet_delimiter":false
        }
      }
    },
    {
      "cell_type":"markdown",
      "source":[
        "New features creation\n",
        "Ideation about creating new features and preprocessing the current features\n",
        "\n",
        "* Year_Birth: We can create the age column\n",
        "* Education: {Basic: Basic Education, Graduation: Graduated from Univ., Post graduate : (2n Cycle + Master + PhD)}\n",
        "* Marital_Status: Changed the name of columns as 'Living_with', and mapped by {(Married + Together) : Partner, otherwise : Alone}\n",
        "* Children = Kidhome + Teenhome\n",
        "* Spent_All: adding all features staring Mnt\n",
        "* PurchaseNumAll = all featrues staring Num\n",
        "* PurDeal_PurAll_ratio: propotion of NumDealPurchases out of PurchaseNumAll\n",
        "* Total_Promos = all featrues staring Accepted + Response\n",
        "* Family_Size = ({\"Alone\": 1, \"Partner\":2})+ data[\"Children\"]\n",
        "* Is_Parent = (data.Children> 0, 1, 0)\n",
        "* Drop Dt_Customer, ID, Year_Birth, Z_CostContact, Z_Revenue"
      ],
      "attachments":{
        
      },
      "metadata":{
        "datalore":{
          "sheet_delimiter":false
        }
      }
    },
    {
      "cell_type":"code",
      "source":[
        "data['Age'] = date.today().year - data['Year_Birth']\n",
        "\n",
        "data['Education'].replace({\n",
        "                            '2n Cycle' : 'Post Graduate',\n",
        "                            'Master'   : 'Post Graduate',\n",
        "                            'PhD'      : 'Post Graduate'}, inplace = True)\n",
        "\n",
        "data['Children'] = data['Kidhome'] + data['Teenhome']\n",
        "data['Spent_All'] = data['MntWines'] + data['MntFruits'] + data['MntMeatProducts'] + data['MntFishProducts'] + data['MntSweetProducts'] + data['MntGoldProds']\n",
        "data['PurchaseNumAll'] = data['NumDealsPurchases'] + data['NumWebPurchases'] + data['NumCatalogPurchases'] + data['NumStorePurchases']\n",
        "data['PurDeal_PurAll_ratio'] = data['NumDealsPurchases'] \/ data['PurchaseNumAll']\n",
        "data['Total_Promos'] = data['AcceptedCmp1']+ data['AcceptedCmp2']+ data['AcceptedCmp3']+ data['AcceptedCmp4']+ data['AcceptedCmp5'] + data['Response']\n",
        "\n",
        "data.rename(columns = {'Marital_Status' : 'Living_With'}, inplace = True)\n",
        "data.loc[data['Living_With'] != 'Partner', 'Living_With'] = 'Alone'\n",
        "\n",
        "data['Family_Size'] = data['Living_With'].replace({'Partner' : 2, 'Alone' : 1}) + data['Children']\n",
        "\n",
        "data['Is_Parent'] = np.where(data['Children'] > 0, 1, 0)\n",
        "\n",
        "display(data.shape, data.head(5))"
      ],
      "execution_count":11,
      "outputs":[
        {
          "data":{
            "text\/plain":[
              "(2216, 38)"
            ],
            "text\/html":[
              "<div>\n",
              "<style scoped>\n",
              "    .dataframe tbody tr th:only-of-type {\n",
              "        vertical-align: middle;\n",
              "    }\n",
              "\n",
              "    .dataframe tbody tr th {\n",
              "        vertical-align: top;\n",
              "    }\n",
              "\n",
              "    .dataframe thead th {\n",
              "        text-align: right;\n",
              "    }\n",
              "<\/style>\n",
              "<table border=\"1\" class=\"dataframe\">\n",
              "  <thead>\n",
              "    <tr style=\"text-align: right;\">\n",
              "      <th><\/th>\n",
              "      <th>ID<\/th>\n",
              "      <th>Year_Birth<\/th>\n",
              "      <th>Education<\/th>\n",
              "      <th>Living_With<\/th>\n",
              "      <th>Income<\/th>\n",
              "      <th>Kidhome<\/th>\n",
              "      <th>Teenhome<\/th>\n",
              "      <th>Dt_Customer<\/th>\n",
              "      <th>Recency<\/th>\n",
              "      <th>MntWines<\/th>\n",
              "      <th>...<\/th>\n",
              "      <th>Response<\/th>\n",
              "      <th>Cus_for<\/th>\n",
              "      <th>Age<\/th>\n",
              "      <th>Children<\/th>\n",
              "      <th>Spent_All<\/th>\n",
              "      <th>PurchaseNumAll<\/th>\n",
              "      <th>PurDeal_PurAll_ratio<\/th>\n",
              "      <th>Total_Promos<\/th>\n",
              "      <th>Family_Size<\/th>\n",
              "      <th>Is_Parent<\/th>\n",
              "    <\/tr>\n",
              "  <\/thead>\n",
              "  <tbody>\n",
              "    <tr>\n",
              "      <th>0<\/th>\n",
              "      <td>5524<\/td>\n",
              "      <td>1957<\/td>\n",
              "      <td>Graduation<\/td>\n",
              "      <td>Alone<\/td>\n",
              "      <td>58138.0<\/td>\n",
              "      <td>0<\/td>\n",
              "      <td>0<\/td>\n",
              "      <td>2012-04-09<\/td>\n",
              "      <td>58<\/td>\n",
              "      <td>635<\/td>\n",
              "      <td>...<\/td>\n",
              "      <td>1<\/td>\n",
              "      <td>971<\/td>\n",
              "      <td>64<\/td>\n",
              "      <td>0<\/td>\n",
              "      <td>1617<\/td>\n",
              "      <td>25<\/td>\n",
              "      <td>0.120000<\/td>\n",
              "      <td>1<\/td>\n",
              "      <td>1<\/td>\n",
              "      <td>0<\/td>\n",
              "    <\/tr>\n",
              "    <tr>\n",
              "      <th>1<\/th>\n",
              "      <td>2174<\/td>\n",
              "      <td>1954<\/td>\n",
              "      <td>Graduation<\/td>\n",
              "      <td>Alone<\/td>\n",
              "      <td>46344.0<\/td>\n",
              "      <td>1<\/td>\n",
              "      <td>1<\/td>\n",
              "      <td>2014-08-03<\/td>\n",
              "      <td>38<\/td>\n",
              "      <td>11<\/td>\n",
              "      <td>...<\/td>\n",
              "      <td>0<\/td>\n",
              "      <td>125<\/td>\n",
              "      <td>67<\/td>\n",
              "      <td>2<\/td>\n",
              "      <td>27<\/td>\n",
              "      <td>6<\/td>\n",
              "      <td>0.333333<\/td>\n",
              "      <td>0<\/td>\n",
              "      <td>3<\/td>\n",
              "      <td>1<\/td>\n",
              "    <\/tr>\n",
              "    <tr>\n",
              "      <th>2<\/th>\n",
              "      <td>4141<\/td>\n",
              "      <td>1965<\/td>\n",
              "      <td>Graduation<\/td>\n",
              "      <td>Alone<\/td>\n",
              "      <td>71613.0<\/td>\n",
              "      <td>0<\/td>\n",
              "      <td>0<\/td>\n",
              "      <td>2013-08-21<\/td>\n",
              "      <td>26<\/td>\n",
              "      <td>426<\/td>\n",
              "      <td>...<\/td>\n",
              "      <td>0<\/td>\n",
              "      <td>472<\/td>\n",
              "      <td>56<\/td>\n",
              "      <td>0<\/td>\n",
              "      <td>776<\/td>\n",
              "      <td>21<\/td>\n",
              "      <td>0.047619<\/td>\n",
              "      <td>0<\/td>\n",
              "      <td>1<\/td>\n",
              "      <td>0<\/td>\n",
              "    <\/tr>\n",
              "    <tr>\n",
              "      <th>3<\/th>\n",
              "      <td>6182<\/td>\n",
              "      <td>1984<\/td>\n",
              "      <td>Graduation<\/td>\n",
              "      <td>Alone<\/td>\n",
              "      <td>26646.0<\/td>\n",
              "      <td>1<\/td>\n",
              "      <td>0<\/td>\n",
              "      <td>2014-10-02<\/td>\n",
              "      <td>26<\/td>\n",
              "      <td>11<\/td>\n",
              "      <td>...<\/td>\n",
              "      <td>0<\/td>\n",
              "      <td>65<\/td>\n",
              "      <td>37<\/td>\n",
              "      <td>1<\/td>\n",
              "      <td>53<\/td>\n",
              "      <td>8<\/td>\n",
              "      <td>0.250000<\/td>\n",
              "      <td>0<\/td>\n",
              "      <td>2<\/td>\n",
              "      <td>1<\/td>\n",
              "    <\/tr>\n",
              "    <tr>\n",
              "      <th>4<\/th>\n",
              "      <td>5324<\/td>\n",
              "      <td>1981<\/td>\n",
              "      <td>Post Graduate<\/td>\n",
              "      <td>Alone<\/td>\n",
              "      <td>58293.0<\/td>\n",
              "      <td>1<\/td>\n",
              "      <td>0<\/td>\n",
              "      <td>2014-01-19<\/td>\n",
              "      <td>94<\/td>\n",
              "      <td>173<\/td>\n",
              "      <td>...<\/td>\n",
              "      <td>0<\/td>\n",
              "      <td>321<\/td>\n",
              "      <td>40<\/td>\n",
              "      <td>1<\/td>\n",
              "      <td>422<\/td>\n",
              "      <td>19<\/td>\n",
              "      <td>0.263158<\/td>\n",
              "      <td>0<\/td>\n",
              "      <td>2<\/td>\n",
              "      <td>1<\/td>\n",
              "    <\/tr>\n",
              "  <\/tbody>\n",
              "<\/table>\n",
              "<p>5 rows × 38 columns<\/p>\n",
              "<\/div>"
            ]
          },
          "metadata":{
            
          },
          "output_type":"display_data"
        }
      ],
      "metadata":{
        "datalore":{
          "sheet_delimiter":false
        }
      }
    },
    {
      "cell_type":"code",
      "source":[
        "data.describe()"
      ],
      "execution_count":12,
      "outputs":[
        {
          "data":{
            "text\/html":[
              "<div>\n",
              "<style scoped>\n",
              "    .dataframe tbody tr th:only-of-type {\n",
              "        vertical-align: middle;\n",
              "    }\n",
              "\n",
              "    .dataframe tbody tr th {\n",
              "        vertical-align: top;\n",
              "    }\n",
              "\n",
              "    .dataframe thead th {\n",
              "        text-align: right;\n",
              "    }\n",
              "<\/style>\n",
              "<table border=\"1\" class=\"dataframe\">\n",
              "  <thead>\n",
              "    <tr style=\"text-align: right;\">\n",
              "      <th><\/th>\n",
              "      <th>ID<\/th>\n",
              "      <th>Year_Birth<\/th>\n",
              "      <th>Income<\/th>\n",
              "      <th>Kidhome<\/th>\n",
              "      <th>Teenhome<\/th>\n",
              "      <th>Recency<\/th>\n",
              "      <th>MntWines<\/th>\n",
              "      <th>MntFruits<\/th>\n",
              "      <th>MntMeatProducts<\/th>\n",
              "      <th>MntFishProducts<\/th>\n",
              "      <th>...<\/th>\n",
              "      <th>Response<\/th>\n",
              "      <th>Cus_for<\/th>\n",
              "      <th>Age<\/th>\n",
              "      <th>Children<\/th>\n",
              "      <th>Spent_All<\/th>\n",
              "      <th>PurchaseNumAll<\/th>\n",
              "      <th>PurDeal_PurAll_ratio<\/th>\n",
              "      <th>Total_Promos<\/th>\n",
              "      <th>Family_Size<\/th>\n",
              "      <th>Is_Parent<\/th>\n",
              "    <\/tr>\n",
              "  <\/thead>\n",
              "  <tbody>\n",
              "    <tr>\n",
              "      <th>count<\/th>\n",
              "      <td>2216.000000<\/td>\n",
              "      <td>2216.000000<\/td>\n",
              "      <td>2216.000000<\/td>\n",
              "      <td>2216.000000<\/td>\n",
              "      <td>2216.000000<\/td>\n",
              "      <td>2216.000000<\/td>\n",
              "      <td>2216.000000<\/td>\n",
              "      <td>2216.000000<\/td>\n",
              "      <td>2216.000000<\/td>\n",
              "      <td>2216.000000<\/td>\n",
              "      <td>...<\/td>\n",
              "      <td>2216.000000<\/td>\n",
              "      <td>2216.000000<\/td>\n",
              "      <td>2216.000000<\/td>\n",
              "      <td>2216.000000<\/td>\n",
              "      <td>2216.000000<\/td>\n",
              "      <td>2216.000000<\/td>\n",
              "      <td>2212.000000<\/td>\n",
              "      <td>2216.000000<\/td>\n",
              "      <td>2216.000000<\/td>\n",
              "      <td>2216.000000<\/td>\n",
              "    <\/tr>\n",
              "    <tr>\n",
              "      <th>mean<\/th>\n",
              "      <td>5588.353339<\/td>\n",
              "      <td>1968.820397<\/td>\n",
              "      <td>52247.251354<\/td>\n",
              "      <td>0.441787<\/td>\n",
              "      <td>0.505415<\/td>\n",
              "      <td>49.012635<\/td>\n",
              "      <td>305.091606<\/td>\n",
              "      <td>26.356047<\/td>\n",
              "      <td>166.995939<\/td>\n",
              "      <td>37.637635<\/td>\n",
              "      <td>...<\/td>\n",
              "      <td>0.150271<\/td>\n",
              "      <td>512.006318<\/td>\n",
              "      <td>52.179603<\/td>\n",
              "      <td>0.947202<\/td>\n",
              "      <td>607.075361<\/td>\n",
              "      <td>14.880866<\/td>\n",
              "      <td>0.180577<\/td>\n",
              "      <td>0.448556<\/td>\n",
              "      <td>1.947202<\/td>\n",
              "      <td>0.714350<\/td>\n",
              "    <\/tr>\n",
              "    <tr>\n",
              "      <th>std<\/th>\n",
              "      <td>3249.376275<\/td>\n",
              "      <td>11.985554<\/td>\n",
              "      <td>25173.076661<\/td>\n",
              "      <td>0.536896<\/td>\n",
              "      <td>0.544181<\/td>\n",
              "      <td>28.948352<\/td>\n",
              "      <td>337.327920<\/td>\n",
              "      <td>39.793917<\/td>\n",
              "      <td>224.283273<\/td>\n",
              "      <td>54.752082<\/td>\n",
              "      <td>...<\/td>\n",
              "      <td>0.357417<\/td>\n",
              "      <td>232.469034<\/td>\n",
              "      <td>11.985554<\/td>\n",
              "      <td>0.749062<\/td>\n",
              "      <td>602.900476<\/td>\n",
              "      <td>7.670957<\/td>\n",
              "      <td>0.111044<\/td>\n",
              "      <td>0.892440<\/td>\n",
              "      <td>0.749062<\/td>\n",
              "      <td>0.451825<\/td>\n",
              "    <\/tr>\n",
              "    <tr>\n",
              "      <th>min<\/th>\n",
              "      <td>0.000000<\/td>\n",
              "      <td>1893.000000<\/td>\n",
              "      <td>1730.000000<\/td>\n",
              "      <td>0.000000<\/td>\n",
              "      <td>0.000000<\/td>\n",
              "      <td>0.000000<\/td>\n",
              "      <td>0.000000<\/td>\n",
              "      <td>0.000000<\/td>\n",
              "      <td>0.000000<\/td>\n",
              "      <td>0.000000<\/td>\n",
              "      <td>...<\/td>\n",
              "      <td>0.000000<\/td>\n",
              "      <td>0.000000<\/td>\n",
              "      <td>25.000000<\/td>\n",
              "      <td>0.000000<\/td>\n",
              "      <td>5.000000<\/td>\n",
              "      <td>0.000000<\/td>\n",
              "      <td>0.000000<\/td>\n",
              "      <td>0.000000<\/td>\n",
              "      <td>1.000000<\/td>\n",
              "      <td>0.000000<\/td>\n",
              "    <\/tr>\n",
              "    <tr>\n",
              "      <th>25%<\/th>\n",
              "      <td>2814.750000<\/td>\n",
              "      <td>1959.000000<\/td>\n",
              "      <td>35303.000000<\/td>\n",
              "      <td>0.000000<\/td>\n",
              "      <td>0.000000<\/td>\n",
              "      <td>24.000000<\/td>\n",
              "      <td>24.000000<\/td>\n",
              "      <td>2.000000<\/td>\n",
              "      <td>16.000000<\/td>\n",
              "      <td>3.000000<\/td>\n",
              "      <td>...<\/td>\n",
              "      <td>0.000000<\/td>\n",
              "      <td>340.000000<\/td>\n",
              "      <td>44.000000<\/td>\n",
              "      <td>0.000000<\/td>\n",
              "      <td>69.000000<\/td>\n",
              "      <td>8.000000<\/td>\n",
              "      <td>0.076923<\/td>\n",
              "      <td>0.000000<\/td>\n",
              "      <td>1.000000<\/td>\n",
              "      <td>0.000000<\/td>\n",
              "    <\/tr>\n",
              "    <tr>\n",
              "      <th>50%<\/th>\n",
              "      <td>5458.500000<\/td>\n",
              "      <td>1970.000000<\/td>\n",
              "      <td>51381.500000<\/td>\n",
              "      <td>0.000000<\/td>\n",
              "      <td>0.000000<\/td>\n",
              "      <td>49.000000<\/td>\n",
              "      <td>174.500000<\/td>\n",
              "      <td>8.000000<\/td>\n",
              "      <td>68.000000<\/td>\n",
              "      <td>12.000000<\/td>\n",
              "      <td>...<\/td>\n",
              "      <td>0.000000<\/td>\n",
              "      <td>513.000000<\/td>\n",
              "      <td>51.000000<\/td>\n",
              "      <td>1.000000<\/td>\n",
              "      <td>396.500000<\/td>\n",
              "      <td>15.000000<\/td>\n",
              "      <td>0.166667<\/td>\n",
              "      <td>0.000000<\/td>\n",
              "      <td>2.000000<\/td>\n",
              "      <td>1.000000<\/td>\n",
              "    <\/tr>\n",
              "    <tr>\n",
              "      <th>75%<\/th>\n",
              "      <td>8421.750000<\/td>\n",
              "      <td>1977.000000<\/td>\n",
              "      <td>68522.000000<\/td>\n",
              "      <td>1.000000<\/td>\n",
              "      <td>1.000000<\/td>\n",
              "      <td>74.000000<\/td>\n",
              "      <td>505.000000<\/td>\n",
              "      <td>33.000000<\/td>\n",
              "      <td>232.250000<\/td>\n",
              "      <td>50.000000<\/td>\n",
              "      <td>...<\/td>\n",
              "      <td>0.000000<\/td>\n",
              "      <td>686.000000<\/td>\n",
              "      <td>62.000000<\/td>\n",
              "      <td>1.000000<\/td>\n",
              "      <td>1048.000000<\/td>\n",
              "      <td>21.000000<\/td>\n",
              "      <td>0.250000<\/td>\n",
              "      <td>1.000000<\/td>\n",
              "      <td>2.000000<\/td>\n",
              "      <td>1.000000<\/td>\n",
              "    <\/tr>\n",
              "    <tr>\n",
              "      <th>max<\/th>\n",
              "      <td>11191.000000<\/td>\n",
              "      <td>1996.000000<\/td>\n",
              "      <td>666666.000000<\/td>\n",
              "      <td>2.000000<\/td>\n",
              "      <td>2.000000<\/td>\n",
              "      <td>99.000000<\/td>\n",
              "      <td>1493.000000<\/td>\n",
              "      <td>199.000000<\/td>\n",
              "      <td>1725.000000<\/td>\n",
              "      <td>259.000000<\/td>\n",
              "      <td>...<\/td>\n",
              "      <td>1.000000<\/td>\n",
              "      <td>1063.000000<\/td>\n",
              "      <td>128.000000<\/td>\n",
              "      <td>3.000000<\/td>\n",
              "      <td>2525.000000<\/td>\n",
              "      <td>44.000000<\/td>\n",
              "      <td>1.000000<\/td>\n",
              "      <td>5.000000<\/td>\n",
              "      <td>4.000000<\/td>\n",
              "      <td>1.000000<\/td>\n",
              "    <\/tr>\n",
              "  <\/tbody>\n",
              "<\/table>\n",
              "<p>8 rows × 35 columns<\/p>\n",
              "<\/div>"
            ]
          },
          "metadata":{
            
          },
          "output_type":"display_data"
        }
      ],
      "metadata":{
        "datalore":{
          "sheet_delimiter":false
        }
      }
    },
    {
      "cell_type":"markdown",
      "source":[
        "There is 1893 in Year_Birth. Though this could be reasonable if that person is truly healthy but...\n",
        "\n",
        "I think I should check the people whose age is more than 100 before dropping Year_Birth column."
      ],
      "attachments":{
        
      },
      "metadata":{
        "datalore":{
          "sheet_delimiter":false
        }
      }
    },
    {
      "cell_type":"code",
      "source":[
        "data.loc[data['Age'] >= 90]"
      ],
      "execution_count":13,
      "outputs":[
        {
          "data":{
            "text\/html":[
              "<div>\n",
              "<style scoped>\n",
              "    .dataframe tbody tr th:only-of-type {\n",
              "        vertical-align: middle;\n",
              "    }\n",
              "\n",
              "    .dataframe tbody tr th {\n",
              "        vertical-align: top;\n",
              "    }\n",
              "\n",
              "    .dataframe thead th {\n",
              "        text-align: right;\n",
              "    }\n",
              "<\/style>\n",
              "<table border=\"1\" class=\"dataframe\">\n",
              "  <thead>\n",
              "    <tr style=\"text-align: right;\">\n",
              "      <th><\/th>\n",
              "      <th>ID<\/th>\n",
              "      <th>Year_Birth<\/th>\n",
              "      <th>Education<\/th>\n",
              "      <th>Living_With<\/th>\n",
              "      <th>Income<\/th>\n",
              "      <th>Kidhome<\/th>\n",
              "      <th>Teenhome<\/th>\n",
              "      <th>Dt_Customer<\/th>\n",
              "      <th>Recency<\/th>\n",
              "      <th>MntWines<\/th>\n",
              "      <th>...<\/th>\n",
              "      <th>Response<\/th>\n",
              "      <th>Cus_for<\/th>\n",
              "      <th>Age<\/th>\n",
              "      <th>Children<\/th>\n",
              "      <th>Spent_All<\/th>\n",
              "      <th>PurchaseNumAll<\/th>\n",
              "      <th>PurDeal_PurAll_ratio<\/th>\n",
              "      <th>Total_Promos<\/th>\n",
              "      <th>Family_Size<\/th>\n",
              "      <th>Is_Parent<\/th>\n",
              "    <\/tr>\n",
              "  <\/thead>\n",
              "  <tbody>\n",
              "    <tr>\n",
              "      <th>192<\/th>\n",
              "      <td>7829<\/td>\n",
              "      <td>1900<\/td>\n",
              "      <td>Post Graduate<\/td>\n",
              "      <td>Alone<\/td>\n",
              "      <td>36640.0<\/td>\n",
              "      <td>1<\/td>\n",
              "      <td>0<\/td>\n",
              "      <td>2013-09-26<\/td>\n",
              "      <td>99<\/td>\n",
              "      <td>15<\/td>\n",
              "      <td>...<\/td>\n",
              "      <td>0<\/td>\n",
              "      <td>436<\/td>\n",
              "      <td>121<\/td>\n",
              "      <td>1<\/td>\n",
              "      <td>65<\/td>\n",
              "      <td>6<\/td>\n",
              "      <td>0.166667<\/td>\n",
              "      <td>0<\/td>\n",
              "      <td>2<\/td>\n",
              "      <td>1<\/td>\n",
              "    <\/tr>\n",
              "    <tr>\n",
              "      <th>239<\/th>\n",
              "      <td>11004<\/td>\n",
              "      <td>1893<\/td>\n",
              "      <td>Post Graduate<\/td>\n",
              "      <td>Alone<\/td>\n",
              "      <td>60182.0<\/td>\n",
              "      <td>0<\/td>\n",
              "      <td>1<\/td>\n",
              "      <td>2014-05-17<\/td>\n",
              "      <td>23<\/td>\n",
              "      <td>8<\/td>\n",
              "      <td>...<\/td>\n",
              "      <td>0<\/td>\n",
              "      <td>203<\/td>\n",
              "      <td>128<\/td>\n",
              "      <td>1<\/td>\n",
              "      <td>22<\/td>\n",
              "      <td>4<\/td>\n",
              "      <td>0.250000<\/td>\n",
              "      <td>0<\/td>\n",
              "      <td>2<\/td>\n",
              "      <td>1<\/td>\n",
              "    <\/tr>\n",
              "    <tr>\n",
              "      <th>339<\/th>\n",
              "      <td>1150<\/td>\n",
              "      <td>1899<\/td>\n",
              "      <td>Post Graduate<\/td>\n",
              "      <td>Alone<\/td>\n",
              "      <td>83532.0<\/td>\n",
              "      <td>0<\/td>\n",
              "      <td>0<\/td>\n",
              "      <td>2013-09-26<\/td>\n",
              "      <td>36<\/td>\n",
              "      <td>755<\/td>\n",
              "      <td>...<\/td>\n",
              "      <td>0<\/td>\n",
              "      <td>436<\/td>\n",
              "      <td>122<\/td>\n",
              "      <td>0<\/td>\n",
              "      <td>1853<\/td>\n",
              "      <td>15<\/td>\n",
              "      <td>0.066667<\/td>\n",
              "      <td>1<\/td>\n",
              "      <td>1<\/td>\n",
              "      <td>0<\/td>\n",
              "    <\/tr>\n",
              "  <\/tbody>\n",
              "<\/table>\n",
              "<p>3 rows × 38 columns<\/p>\n",
              "<\/div>"
            ]
          },
          "metadata":{
            
          },
          "output_type":"display_data"
        }
      ],
      "metadata":{
        "datalore":{
          "sheet_delimiter":false
        }
      }
    },
    {
      "cell_type":"markdown",
      "source":[
        "Can you believe the people more than 120 yr-old can generally earn the yearly income range 36,000 ~ 84,000?\n",
        "\n",
        "Or\n",
        "\n",
        "Can you believe the people more than 120 yr-old can actively purchase the items on the website?\n",
        "\n",
        "I'd like to infer the age values in these 3 rows are, in my opinion, wrongly registered hence they should be dropped."
      ],
      "attachments":{
        
      },
      "metadata":{
        "datalore":{
          "sheet_delimiter":false
        }
      }
    },
    {
      "cell_type":"code",
      "source":[
        "print(data.shape)\n",
        "\n",
        "data.drop(index = [192, 239, 339], axis = 0, inplace = True)\n",
        "\n",
        "print(data.shape)\n",
        "data.Age.describe()"
      ],
      "execution_count":14,
      "outputs":[
        {
          "name":"stdout",
          "text":[
            "(2216, 38)\n",
            "(2213, 38)\n"
          ],
          "output_type":"stream"
        },
        {
          "data":{
            "text\/html":[
              
            ]
          },
          "metadata":{
            
          },
          "output_type":"display_data"
        }
      ],
      "metadata":{
        "datalore":{
          "sheet_delimiter":false
        }
      }
    },
    {
      "cell_type":"code",
      "source":[
        "data['PurDeal_PurAll_ratio'].fillna(0, inplace = True)"
      ],
      "execution_count":15,
      "outputs":[
        
      ],
      "metadata":{
        "datalore":{
          "sheet_delimiter":false
        }
      }
    },
    {
      "cell_type":"markdown",
      "source":[
        "I'll drop some more columns that are useless for further analysis.\n",
        "\n",
        "* 'Dt_Customer': We will use 'Cus_for' column instead of it.\n",
        "* 'Year_Birth': We will use 'Age' column instead of it.\n",
        "* 'ID': useless\n",
        "* 'Z_CostContact', 'Z_Revenue': Every row has the same value for these columns.\n",
        "* 'Complain': Only 20 rows among 3213 rows has 1 and otherwise 0 hence it is also useless."
      ],
      "attachments":{
        
      },
      "metadata":{
        "datalore":{
          "sheet_delimiter":false
        }
      }
    },
    {
      "cell_type":"code",
      "source":[
        "drop_cols = ['Dt_Customer', 'ID', 'Year_Birth', 'Z_CostContact', 'Z_Revenue', 'Complain']\n",
        "data.drop(drop_cols, axis = 1, inplace = True)\n",
        "print(data.shape)"
      ],
      "execution_count":16,
      "outputs":[
        {
          "name":"stdout",
          "text":[
            "(2213, 32)\n"
          ],
          "output_type":"stream"
        }
      ],
      "metadata":{
        "datalore":{
          "sheet_delimiter":false
        }
      }
    },
    {
      "cell_type":"code",
      "source":[
        "data.to_csv('Marketing_Campaign.csv')"
      ],
      "execution_count":20,
      "outputs":[
        
      ],
      "metadata":{
        "datalore":{
          "sheet_delimiter":false
        }
      }
    }
  ],
  "metadata":{
    
  },
  "nbformat":4,
  "nbformat_minor":0
}