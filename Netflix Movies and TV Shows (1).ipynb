{
  "cells":[
    {
      "cell_type":"code",
      "source":[
        "#import libraries\n",
        "import pandas as pd\n",
        "import plotly.graph_objects as go\n",
        "import plotly.express as px\n",
        "import matplotlib.pyplot as plt\n",
        "from collections import Counter\n",
        "from plotly.offline import iplot"
      ],
      "execution_count":1,
      "outputs":[
        
      ],
      "metadata":{
        "datalore":{
          "sheet_delimiter":false
        }
      }
    },
    {
      "cell_type":"code",
      "source":[
        "#read data and review data\n",
        "data = pd.read_csv('netflix_titles.csv')\n",
        "data.head(5)"
      ],
      "execution_count":2,
      "outputs":[
        {
          "data":{
            "text\/html":[
              "<div>\n",
              "<style scoped>\n",
              "    .dataframe tbody tr th:only-of-type {\n",
              "        vertical-align: middle;\n",
              "    }\n",
              "\n",
              "    .dataframe tbody tr th {\n",
              "        vertical-align: top;\n",
              "    }\n",
              "\n",
              "    .dataframe thead th {\n",
              "        text-align: right;\n",
              "    }\n",
              "<\/style>\n",
              "<table border=\"1\" class=\"dataframe\">\n",
              "  <thead>\n",
              "    <tr style=\"text-align: right;\">\n",
              "      <th><\/th>\n",
              "      <th>show_id<\/th>\n",
              "      <th>type<\/th>\n",
              "      <th>title<\/th>\n",
              "      <th>director<\/th>\n",
              "      <th>cast<\/th>\n",
              "      <th>country<\/th>\n",
              "      <th>date_added<\/th>\n",
              "      <th>release_year<\/th>\n",
              "      <th>rating<\/th>\n",
              "      <th>duration<\/th>\n",
              "      <th>listed_in<\/th>\n",
              "      <th>description<\/th>\n",
              "    <\/tr>\n",
              "  <\/thead>\n",
              "  <tbody>\n",
              "    <tr>\n",
              "      <th>0<\/th>\n",
              "      <td>s1<\/td>\n",
              "      <td>Movie<\/td>\n",
              "      <td>Dick Johnson Is Dead<\/td>\n",
              "      <td>Kirsten Johnson<\/td>\n",
              "      <td>NaN<\/td>\n",
              "      <td>United States<\/td>\n",
              "      <td>September 25, 2021<\/td>\n",
              "      <td>2020<\/td>\n",
              "      <td>PG-13<\/td>\n",
              "      <td>90 min<\/td>\n",
              "      <td>Documentaries<\/td>\n",
              "      <td>As her father nears the end of his life, filmm...<\/td>\n",
              "    <\/tr>\n",
              "    <tr>\n",
              "      <th>1<\/th>\n",
              "      <td>s2<\/td>\n",
              "      <td>TV Show<\/td>\n",
              "      <td>Blood &amp; Water<\/td>\n",
              "      <td>NaN<\/td>\n",
              "      <td>Ama Qamata, Khosi Ngema, Gail Mabalane, Thaban...<\/td>\n",
              "      <td>South Africa<\/td>\n",
              "      <td>September 24, 2021<\/td>\n",
              "      <td>2021<\/td>\n",
              "      <td>TV-MA<\/td>\n",
              "      <td>2 Seasons<\/td>\n",
              "      <td>International TV Shows, TV Dramas, TV Mysteries<\/td>\n",
              "      <td>After crossing paths at a party, a Cape Town t...<\/td>\n",
              "    <\/tr>\n",
              "    <tr>\n",
              "      <th>2<\/th>\n",
              "      <td>s3<\/td>\n",
              "      <td>TV Show<\/td>\n",
              "      <td>Ganglands<\/td>\n",
              "      <td>Julien Leclercq<\/td>\n",
              "      <td>Sami Bouajila, Tracy Gotoas, Samuel Jouy, Nabi...<\/td>\n",
              "      <td>NaN<\/td>\n",
              "      <td>September 24, 2021<\/td>\n",
              "      <td>2021<\/td>\n",
              "      <td>TV-MA<\/td>\n",
              "      <td>1 Season<\/td>\n",
              "      <td>Crime TV Shows, International TV Shows, TV Act...<\/td>\n",
              "      <td>To protect his family from a powerful drug lor...<\/td>\n",
              "    <\/tr>\n",
              "    <tr>\n",
              "      <th>3<\/th>\n",
              "      <td>s4<\/td>\n",
              "      <td>TV Show<\/td>\n",
              "      <td>Jailbirds New Orleans<\/td>\n",
              "      <td>NaN<\/td>\n",
              "      <td>NaN<\/td>\n",
              "      <td>NaN<\/td>\n",
              "      <td>September 24, 2021<\/td>\n",
              "      <td>2021<\/td>\n",
              "      <td>TV-MA<\/td>\n",
              "      <td>1 Season<\/td>\n",
              "      <td>Docuseries, Reality TV<\/td>\n",
              "      <td>Feuds, flirtations and toilet talk go down amo...<\/td>\n",
              "    <\/tr>\n",
              "    <tr>\n",
              "      <th>4<\/th>\n",
              "      <td>s5<\/td>\n",
              "      <td>TV Show<\/td>\n",
              "      <td>Kota Factory<\/td>\n",
              "      <td>NaN<\/td>\n",
              "      <td>Mayur More, Jitendra Kumar, Ranjan Raj, Alam K...<\/td>\n",
              "      <td>India<\/td>\n",
              "      <td>September 24, 2021<\/td>\n",
              "      <td>2021<\/td>\n",
              "      <td>TV-MA<\/td>\n",
              "      <td>2 Seasons<\/td>\n",
              "      <td>International TV Shows, Romantic TV Shows, TV ...<\/td>\n",
              "      <td>In a city of coaching centers known to train I...<\/td>\n",
              "    <\/tr>\n",
              "  <\/tbody>\n",
              "<\/table>\n",
              "<\/div>"
            ]
          },
          "metadata":{
            
          },
          "output_type":"display_data"
        }
      ],
      "metadata":{
        "datalore":{
          "sheet_delimiter":false
        }
      }
    },
    {
      "cell_type":"code",
      "source":[
        "data.shape"
      ],
      "execution_count":3,
      "outputs":[
        {
          "data":{
            "text\/plain":[
              "(8807, 12)"
            ]
          },
          "metadata":{
            
          },
          "output_type":"display_data"
        }
      ],
      "metadata":{
        "datalore":{
          "sheet_delimiter":false
        }
      }
    },
    {
      "cell_type":"markdown",
      "source":[
        "- data set have 8807 rows and 12 columns"
      ],
      "attachments":{
        
      },
      "metadata":{
        "datalore":{
          "sheet_delimiter":false
        }
      }
    },
    {
      "cell_type":"code",
      "source":[
        "data.info()"
      ],
      "execution_count":4,
      "outputs":[
        {
          "name":"stdout",
          "text":[
            "<class 'pandas.core.frame.DataFrame'>\n",
            "RangeIndex: 8807 entries, 0 to 8806\n",
            "Data columns (total 12 columns):\n",
            " #   Column        Non-Null Count  Dtype \n",
            "---  ------        --------------  ----- \n",
            " 0   show_id       8807 non-null   object\n",
            " 1   type          8807 non-null   object\n",
            " 2   title         8807 non-null   object\n",
            " 3   director      6173 non-null   object\n",
            " 4   cast          7982 non-null   object\n",
            " 5   country       7976 non-null   object\n",
            " 6   date_added    8797 non-null   object\n",
            " 7   release_year  8807 non-null   int64 \n",
            " 8   rating        8803 non-null   object\n",
            " 9   duration      8804 non-null   object\n",
            " 10  listed_in     8807 non-null   object\n",
            " 11  description   8807 non-null   object\n",
            "dtypes: int64(1), object(11)\n",
            "memory usage: 825.8+ KB\n"
          ],
          "output_type":"stream"
        }
      ],
      "metadata":{
        "datalore":{
          "sheet_delimiter":false
        }
      }
    },
    {
      "cell_type":"markdown",
      "source":[
        "  6 columns have missing values\n",
        "  - 'director' has 2634 null values\n",
        "  - 'cast' has 825 null values\n",
        "  - 'country' has 831 null values\n",
        "  - 'date_added' has 10 null values\n",
        "  - 'rating' has 4 null values\n",
        "  - 'duration' has 3 null values"
      ],
      "attachments":{
        
      },
      "metadata":{
        "datalore":{
          "sheet_delimiter":false
        }
      }
    },
    {
      "cell_type":"code",
      "source":[
        "#cleanning data \n",
        "data.dropna(inplace= True)\n",
        "\n",
        "drop_col = ['show_id', 'listed_in', 'description']\n",
        "data.drop(drop_col, axis = 1, inplace = True)\n",
        "\n",
        "data.shape"
      ],
      "execution_count":5,
      "outputs":[
        {
          "data":{
            "text\/plain":[
              "(5332, 9)"
            ]
          },
          "metadata":{
            
          },
          "output_type":"display_data"
        }
      ],
      "metadata":{
        "datalore":{
          "sheet_delimiter":false
        }
      }
    },
    {
      "cell_type":"code",
      "source":[
        "data = data.reset_index(drop=True)\n",
        "data.head(5)"
      ],
      "execution_count":6,
      "outputs":[
        {
          "data":{
            "text\/html":[
              "<div>\n",
              "<style scoped>\n",
              "    .dataframe tbody tr th:only-of-type {\n",
              "        vertical-align: middle;\n",
              "    }\n",
              "\n",
              "    .dataframe tbody tr th {\n",
              "        vertical-align: top;\n",
              "    }\n",
              "\n",
              "    .dataframe thead th {\n",
              "        text-align: right;\n",
              "    }\n",
              "<\/style>\n",
              "<table border=\"1\" class=\"dataframe\">\n",
              "  <thead>\n",
              "    <tr style=\"text-align: right;\">\n",
              "      <th><\/th>\n",
              "      <th>type<\/th>\n",
              "      <th>title<\/th>\n",
              "      <th>director<\/th>\n",
              "      <th>cast<\/th>\n",
              "      <th>country<\/th>\n",
              "      <th>date_added<\/th>\n",
              "      <th>release_year<\/th>\n",
              "      <th>rating<\/th>\n",
              "      <th>duration<\/th>\n",
              "    <\/tr>\n",
              "  <\/thead>\n",
              "  <tbody>\n",
              "    <tr>\n",
              "      <th>0<\/th>\n",
              "      <td>Movie<\/td>\n",
              "      <td>Sankofa<\/td>\n",
              "      <td>Haile Gerima<\/td>\n",
              "      <td>Kofi Ghanaba, Oyafunmike Ogunlano, Alexandra D...<\/td>\n",
              "      <td>United States, Ghana, Burkina Faso, United Kin...<\/td>\n",
              "      <td>September 24, 2021<\/td>\n",
              "      <td>1993<\/td>\n",
              "      <td>TV-MA<\/td>\n",
              "      <td>125 min<\/td>\n",
              "    <\/tr>\n",
              "    <tr>\n",
              "      <th>1<\/th>\n",
              "      <td>TV Show<\/td>\n",
              "      <td>The Great British Baking Show<\/td>\n",
              "      <td>Andy Devonshire<\/td>\n",
              "      <td>Mel Giedroyc, Sue Perkins, Mary Berry, Paul Ho...<\/td>\n",
              "      <td>United Kingdom<\/td>\n",
              "      <td>September 24, 2021<\/td>\n",
              "      <td>2021<\/td>\n",
              "      <td>TV-14<\/td>\n",
              "      <td>9 Seasons<\/td>\n",
              "    <\/tr>\n",
              "    <tr>\n",
              "      <th>2<\/th>\n",
              "      <td>Movie<\/td>\n",
              "      <td>The Starling<\/td>\n",
              "      <td>Theodore Melfi<\/td>\n",
              "      <td>Melissa McCarthy, Chris O'Dowd, Kevin Kline, T...<\/td>\n",
              "      <td>United States<\/td>\n",
              "      <td>September 24, 2021<\/td>\n",
              "      <td>2021<\/td>\n",
              "      <td>PG-13<\/td>\n",
              "      <td>104 min<\/td>\n",
              "    <\/tr>\n",
              "    <tr>\n",
              "      <th>3<\/th>\n",
              "      <td>Movie<\/td>\n",
              "      <td>Je Suis Karl<\/td>\n",
              "      <td>Christian Schwochow<\/td>\n",
              "      <td>Luna Wedler, Jannis Niewöhner, Milan Peschel, ...<\/td>\n",
              "      <td>Germany, Czech Republic<\/td>\n",
              "      <td>September 23, 2021<\/td>\n",
              "      <td>2021<\/td>\n",
              "      <td>TV-MA<\/td>\n",
              "      <td>127 min<\/td>\n",
              "    <\/tr>\n",
              "    <tr>\n",
              "      <th>4<\/th>\n",
              "      <td>Movie<\/td>\n",
              "      <td>Jeans<\/td>\n",
              "      <td>S. Shankar<\/td>\n",
              "      <td>Prashanth, Aishwarya Rai Bachchan, Sri Lakshmi...<\/td>\n",
              "      <td>India<\/td>\n",
              "      <td>September 21, 2021<\/td>\n",
              "      <td>1998<\/td>\n",
              "      <td>TV-14<\/td>\n",
              "      <td>166 min<\/td>\n",
              "    <\/tr>\n",
              "  <\/tbody>\n",
              "<\/table>\n",
              "<\/div>"
            ]
          },
          "metadata":{
            
          },
          "output_type":"display_data"
        }
      ],
      "metadata":{
        "datalore":{
          "sheet_delimiter":false
        }
      }
    },
    {
      "cell_type":"code",
      "source":[
        "#visualization\n",
        "col = 'type'\n",
        "group = data[col].value_counts().reset_index()\n",
        "group = group.rename(columns = {col : 'count', 'index' : col})\n",
        "\n",
        "#pie plot ratio of movies and tv shows\n",
        "trace = go.Pie(labels=group[col], values=group['count'], pull=[0.05, 0], marker=dict(colors=[\"#00A8E1\", \"#232F3E\"]))\n",
        "layout = go.Layout(title=\"RATIO OF MOVIE AND TV SHOWS\", height=400, legend=dict(x=0.1, y=1.1))\n",
        "fig = go.Figure(data = [trace], layout = layout)\n",
        "iplot(fig)"
      ],
      "execution_count":7,
      "outputs":[
        {
          "data":{
            "text\/plain":[
              "Unsupported"
            ]
          },
          "metadata":{
            
          },
          "output_type":"display_data"
        }
      ],
      "metadata":{
        "datalore":{
          "sheet_delimiter":false
        }
      }
    },
    {
      "cell_type":"code",
      "source":[
        "#top 10 countries\n",
        "countries = Counter(data.country)\n",
        "top_countries = countries.most_common(10)\n",
        "tc = px.bar(x = [i[0] for i in top_countries],y = [i[1] for i in top_countries],color=[i[0] for i in top_countries])\n",
        "tc.update_layout(title = 'TOP 10 COUNTRIES',xaxis_title = 'COUNTRIES',yaxis_title = 'Count')"
      ],
      "execution_count":8,
      "outputs":[
        {
          "data":{
            "text\/plain":[
              "Unsupported"
            ]
          },
          "metadata":{
            
          },
          "output_type":"display_data"
        }
      ],
      "metadata":{
        "datalore":{
          "sheet_delimiter":false
        }
      }
    },
    {
      "cell_type":"code",
      "source":[
        "#most frequency of release year\n",
        "year = Counter(data.release_year)\n",
        "top_years = year.most_common(10)\n",
        "t_year = px.bar(x = [i[0] for i in top_years],y = [i[1] for i in top_years],color=[i[0] for i in top_years],width = 1000)\n",
        "t_year.update_layout(title = 'MOST FREQUENCY OF RELEASE YEAR',xaxis_title = 'Years',yaxis_title = 'Count')"
      ],
      "execution_count":9,
      "outputs":[
        {
          "data":{
            "text\/plain":[
              "Unsupported"
            ]
          },
          "metadata":{
            
          },
          "output_type":"display_data"
        }
      ],
      "metadata":{
        "datalore":{
          "sheet_delimiter":false
        }
      }
    },
    {
      "cell_type":"code",
      "source":[
        "#top ratings\n",
        "tr = Counter(data.rating)\n",
        "top_rate = tr.most_common(10)\n",
        "top_rating = px.bar(x = [i[1] for i in top_rate],y = [i[0] for i in top_rate], color=[i[0] for i in top_rate],width = 1000)\n",
        "top_rating.update_layout(title = 'TOP 10 RATINGS',xaxis_title = 'Count',yaxis_title = 'Rating')"
      ],
      "execution_count":10,
      "outputs":[
        {
          "data":{
            "text\/plain":[
              "Unsupported"
            ]
          },
          "metadata":{
            
          },
          "output_type":"display_data"
        }
      ],
      "metadata":{
        "datalore":{
          "sheet_delimiter":false
        }
      }
    },
    {
      "cell_type":"code",
      "source":[
        "#top directors\n",
        "directors = Counter(data.director)\n",
        "top_directors = directors.most_common(10)\n",
        "td = px.bar(x = [i[1] for i in top_directors],y = [i[0] for i in top_directors],color=[i[0] for i in top_directors])\n",
        "td.update_layout(title = 'TOP DIRECTORS',xaxis_title = 'No. of Shows\/Movies',yaxis_title = 'Directors')"
      ],
      "execution_count":11,
      "outputs":[
        {
          "data":{
            "text\/plain":[
              "Unsupported"
            ]
          },
          "metadata":{
            
          },
          "output_type":"display_data"
        }
      ],
      "metadata":{
        "datalore":{
          "sheet_delimiter":false
        }
      }
    },
    {
      "cell_type":"code",
      "source":[
        "#top cast\n",
        "cast = Counter(data.cast)\n",
        "topcasts = cast.most_common(10)\n",
        "tcast = px.bar(x = [i[1] for i in topcasts],y = [i[0] for i in topcasts],color=[i[0] for i in topcasts])\n",
        "tcast.update_layout(title = 'TOP CASTS',xaxis_title = 'Count',yaxis_title = 'Name of Cast')"
      ],
      "execution_count":12,
      "outputs":[
        {
          "data":{
            "text\/plain":[
              "Unsupported"
            ]
          },
          "metadata":{
            
          },
          "output_type":"display_data"
        }
      ],
      "metadata":{
        "datalore":{
          "sheet_delimiter":false
        }
      }
    },
    {
      "cell_type":"code",
      "source":[
        "#top 10 duration of movies \n",
        "movies = data.type == 'Movie'\n",
        "md = Counter(data[movies].duration)\n",
        "topmd = md.most_common(10)\n",
        "mdt = px.bar(x = [i[0] for i in topmd],y = [i[1] for i in topmd],color=[i[0] for i in topmd],width = 1000)\n",
        "mdt.update_layout(title = 'TOP 10 DURATION OF MOVIES ',xaxis_title = 'Duration',yaxis_title = 'Count')"
      ],
      "execution_count":13,
      "outputs":[
        {
          "data":{
            "text\/plain":[
              "Unsupported"
            ]
          },
          "metadata":{
            
          },
          "output_type":"display_data"
        }
      ],
      "metadata":{
        "datalore":{
          "sheet_delimiter":false
        }
      }
    },
    {
      "cell_type":"code",
      "source":[
        "#total season of TV Shows\n",
        "shows = data.type == 'TV Show'\n",
        "sd = Counter(data[shows].duration)\n",
        "topsd = sd.most_common(15)\n",
        "sdt = px.bar(x = [i[0] for i in topsd],y = [i[1] for i in topsd],color=[i[0] for i in topsd],width = 1000)\n",
        "sdt.update_layout(title = 'TOTAL SEASONS TV SHOWS', xaxis_title = 'Seasons',yaxis_title = 'Count')"
      ],
      "execution_count":14,
      "outputs":[
        {
          "data":{
            "text\/plain":[
              "Unsupported"
            ]
          },
          "metadata":{
            
          },
          "output_type":"display_data"
        }
      ],
      "metadata":{
        "datalore":{
          "sheet_delimiter":false
        }
      }
    },
    {
      "cell_type":"code",
      "source":[
        "plt.figure(figsize=(10,8))\n",
        "# Drop 'No Data' row\n",
        "df2 = data[\"director\"].value_counts().head(11)\n",
        "df2.tail(10).plot(kind='barh')\n",
        "plt.title(\"Directors with Most Movies\", size=15)\n",
        "plt.show()"
      ],
      "execution_count":25,
      "outputs":[
        {
          "data":{
            "image\/png":"[encoded data removed]"
          },
          "metadata":{
            "image\/png":{
              
            }
          },
          "output_type":"display_data"
        }
      ],
      "metadata":{
        "datalore":{
          "sheet_delimiter":false
        }
      }
    }
  ],
  "metadata":{
    
  },
  "nbformat":4,
  "nbformat_minor":0
}